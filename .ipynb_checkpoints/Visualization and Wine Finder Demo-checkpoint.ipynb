{
 "cells": [
  {
   "cell_type": "code",
   "execution_count": null,
   "metadata": {},
   "outputs": [],
   "source": [
    "#import libraries and dependencies\n",
    "import numpy as np\n",
    "import pandas as pd\n",
    "import matplotlib.pyplot as plt\n",
    "import seaborn as sn\n",
    "import chart_studio.plotly as py\n",
    "import plotly\n",
    "\n",
    "\n",
    "import warnings\n",
    "warnings.filterwarnings('ignore')\n",
    "\n",
    "pd.set_option('display.notebook_repr_html',True)\n",
    "pd.set_option('display.float_format', lambda x: '%.1f' % x)"
   ]
  },
  {
   "cell_type": "code",
   "execution_count": null,
   "metadata": {},
   "outputs": [],
   "source": [
    "py.sign_in('Daina92','Wfamvzko8zxMbVZ1VZ7B')"
   ]
  },
  {
   "cell_type": "code",
   "execution_count": null,
   "metadata": {
    "scrolled": true
   },
   "outputs": [],
   "source": [
    "wine_data = pd.read_csv('Wine_data.csv')\n",
    "wine_data = wine_data.drop(columns=['Unnamed: 0'],axis=1)\n",
    "wine_data.head(20)"
   ]
  },
  {
   "cell_type": "code",
   "execution_count": null,
   "metadata": {},
   "outputs": [],
   "source": [
    "#Identify the taster of the wine \n",
    "wine_data['Taster Name'].value_counts()"
   ]
  },
  {
   "cell_type": "code",
   "execution_count": null,
   "metadata": {},
   "outputs": [],
   "source": [
    "# we want to see the cheapeast wine, the average price and the most expensive wine\n",
    "minimum_price = wine_data['Price'].min()\n",
    "print(minimum_price)\n",
    "maximum_price = wine_data['Price'].max()\n",
    "print(maximum_price)\n",
    "average_price = round(wine_data['Price'].mean(),2)\n",
    "print(average_price)"
   ]
  },
  {
   "cell_type": "code",
   "execution_count": null,
   "metadata": {},
   "outputs": [],
   "source": [
    "# create a visualization to see the range of wine prices\n",
    "fig, ax = plt.subplots(figsize=(9, 7))\n",
    "plt.boxplot(wine_data['Price'], showmeans=True)\n",
    "plt.title('Distribution of Wine Prices', fontsize=18)\n",
    "plt.xlabel('Wine')\n",
    "plt.ylabel('Prices')\n",
    "plt.show()"
   ]
  },
  {
   "cell_type": "code",
   "execution_count": null,
   "metadata": {},
   "outputs": [],
   "source": [
    "# single out the most expensive wine\n",
    "expensive_wine = wine_data[(wine_data['Price'] >= 3300)]\n",
    "expensive_wine"
   ]
  },
  {
   "cell_type": "code",
   "execution_count": null,
   "metadata": {},
   "outputs": [],
   "source": [
    "# Create a corr matrix to see if there is any correlation between the numeric values in the df\n",
    "df = wine_data[['Price','Points','Year']]\n",
    "corrMatrix = df.corr()\n",
    "sn.heatmap(corrMatrix, annot=True)\n",
    "plt.show()"
   ]
  },
  {
   "cell_type": "markdown",
   "metadata": {},
   "source": [
    "# Compare Average Wine Prices By Grade of Wine\n"
   ]
  },
  {
   "cell_type": "code",
   "execution_count": null,
   "metadata": {},
   "outputs": [],
   "source": [
    "#Create a groupby object to aggregate grade of wine vs price of wine\n",
    "grade_price = wine_data.groupby(['Points']).mean()['Price']\n",
    "grade_price = grade_price.reset_index()\n",
    "\n",
    "grade_price = round(grade_price,1)\n"
   ]
  },
  {
   "cell_type": "code",
   "execution_count": null,
   "metadata": {},
   "outputs": [],
   "source": [
    "# plot wine prices vs year produced\n",
    "import plotly.express as px\n",
    "data = grade_price\n",
    "fig = px.bar(data, x='Points', y='Price', hover_data =['Points', 'Price'], color='Price',\n",
    "             labels ={'Price':'Wine Price($)'},\n",
    "             title='Average Wine Prices By Grade(World)')\n",
    "\n",
    "\n",
    "py.iplot(fig, filename='Average Wine Prices By Grade')"
   ]
  },
  {
   "cell_type": "markdown",
   "metadata": {},
   "source": [
    "# Compare Average Wine Prices by Year "
   ]
  },
  {
   "cell_type": "code",
   "execution_count": null,
   "metadata": {},
   "outputs": [],
   "source": [
    "#Create a groupby object to aggregate year produced vs price of wine\n",
    "year_price = wine_data.groupby(['Year']).mean()['Price']\n",
    "year_price = year_price.reset_index()"
   ]
  },
  {
   "cell_type": "code",
   "execution_count": null,
   "metadata": {},
   "outputs": [],
   "source": [
    "year_price = round(year_price,1)\n",
    "\n",
    "# plot wine prices vs year produced\n",
    "import plotly.express as px\n",
    "data = year_price\n",
    "fig = px.bar(data, x='Year', y='Price', hover_data =['Year', 'Price'], color='Price',\n",
    "             labels ={'Price':'Wine Price($)'},\n",
    "             title='Average Wine Prices By Year (World)')\n",
    "\n",
    "py.iplot(fig, filename='Average Wine Prices By Year Produced')\n",
    "\n"
   ]
  },
  {
   "cell_type": "markdown",
   "metadata": {},
   "source": [
    "# Compare Average Wine Prices By Country of Origin"
   ]
  },
  {
   "cell_type": "code",
   "execution_count": null,
   "metadata": {},
   "outputs": [],
   "source": [
    "#Compare wine prices to the country of origin\n",
    "country_price = wine_data.groupby(['Country']).mean()['Price']\n",
    "country_price = country_price.sort_values()\n",
    "df = country_price.reset_index()\n"
   ]
  },
  {
   "cell_type": "code",
   "execution_count": null,
   "metadata": {},
   "outputs": [],
   "source": [
    "df = round(df,1)\n",
    "\n",
    "# Plot this wine prices vs country of origin\n",
    "# we want text label to have the same size, text appear outside of chart\n",
    "fig = px.bar(df, y='Price', x='Country', text='Price',\n",
    "             title='Average Wine Prices By Country(World)')\n",
    "fig.update_traces(texttemplate='%{text:.2s}', textposition='outside')\n",
    "fig.update_layout(uniformtext_minsize=8, uniformtext_mode='hide')\n",
    "\n",
    "\n",
    "py.iplot(fig, filename='Average Wine Prices By Country Of Origin')\n"
   ]
  },
  {
   "cell_type": "code",
   "execution_count": null,
   "metadata": {
    "scrolled": true
   },
   "outputs": [],
   "source": [
    "# Which wine variety is indentified the most by the wine tasters\n",
    "wine_data['Variety'].value_counts()"
   ]
  },
  {
   "cell_type": "code",
   "execution_count": null,
   "metadata": {},
   "outputs": [],
   "source": [
    "#Focus on the united states and see which states has the most expensive wines on average\n",
    "usa_only = wine_data.loc[wine_data['Country']== 'US']\n",
    "usa_only = usa_only.reset_index()\n",
    "\n",
    "# Drop column called index\n",
    "usa_only = usa_only.drop('index', axis=1)"
   ]
  },
  {
   "cell_type": "code",
   "execution_count": null,
   "metadata": {},
   "outputs": [],
   "source": [
    "# drop strange state column called 'America'\n",
    "index_names =  usa_only[(usa_only['Province'] == 'America')].index\n",
    "usa_only.drop(index_names, inplace = True) "
   ]
  },
  {
   "cell_type": "code",
   "execution_count": null,
   "metadata": {},
   "outputs": [],
   "source": [
    "# Compare wine prices by year produced\n",
    "year_price = usa_only.groupby(['Year']).mean()['Price']\n",
    "year_price = year_price.reset_index()\n",
    "year_price = round(year_price,1)\n",
    "\n",
    "# Plot wine prices vs year produced (USA)\n",
    "import plotly.express as px\n",
    "data = year_price\n",
    "fig = px.bar(data, x='Year', y='Price', hover_data =['Year', 'Price'], color='Price',\n",
    "             labels ={'Price':'Wine Price($)'},\n",
    "             title='Wine Prices By Year(USA)')\n",
    "fig.show()\n",
    "\n",
    "py.iplot(fig, filename='Average Wine Prices By Year(USA)')"
   ]
  },
  {
   "cell_type": "code",
   "execution_count": null,
   "metadata": {},
   "outputs": [],
   "source": [
    "#Plot wine data by price of wines produced in the United States\n",
    "state_price = usa_only.groupby(['Province']).mean()['Price']\n",
    "state_price = state_price.reset_index()\n",
    "state_price = state_price.sort_values('Price')\n",
    "state_price = round(state_price,1)\n",
    "state_price.columns= ['State','Wine Prices']\n",
    "\n",
    "#Group data by State and Price\n",
    "fig = px.bar(state_price, y='Wine Prices', x ='State', text='Wine Prices', \n",
    "             title=' Average Wine Prices By State(USA)')\n",
    "fig.update_traces(texttemplate='%{text:.2s}', textposition='outside')\n",
    "fig.update_layout(uniformtext_minsize=8 )\n",
    "fig.show()\n",
    "\n",
    "py.iplot(fig, filename='Average Wine Prices By State(USA)')"
   ]
  },
  {
   "cell_type": "code",
   "execution_count": null,
   "metadata": {},
   "outputs": [],
   "source": [
    "# State and number of wineries\n",
    "usa_only['Winery'].value_counts()"
   ]
  },
  {
   "cell_type": "code",
   "execution_count": null,
   "metadata": {},
   "outputs": [],
   "source": [
    "#drop duplicates values in Winery, we only want the name of a winery to appear once\n",
    "non_dups = usa_only.drop_duplicates(subset = ['Winery'])\n",
    "\n",
    "#Group the dataframe by Winery, lat , lng and location\n",
    "usa = non_dups.groupby(['Latitude','Longitude','Province']).count()['Winery']\n",
    "usa = usa.reset_index()\n",
    "usa"
   ]
  },
  {
   "cell_type": "code",
   "execution_count": null,
   "metadata": {
    "scrolled": true
   },
   "outputs": [],
   "source": [
    "# Plot sum of unique wineries by state in The USA\n",
    "import plotly.graph_objects as go\n",
    "\n",
    "usa['text'] = usa['Province'] + '<br>' + 'Number of Wineries: ' + usa['Winery'].astype(str)\n",
    "\n",
    "fig = go.Figure(data=go.Scattergeo(\n",
    "        locationmode = 'USA-states',\n",
    "        lon = usa['Longitude'],\n",
    "        lat = usa['Latitude'],\n",
    "        text = usa['text'],\n",
    "        mode = 'markers',\n",
    "        marker = dict(\n",
    "            size = 20,\n",
    "            opacity = 0.9,\n",
    "            line = dict(\n",
    "                width=1,\n",
    "                color='rgba(102, 102, 102)'\n",
    "            ),\n",
    "            \n",
    "            colorscale = 'Purples',\n",
    "            cmin = 0,\n",
    "            color = usa['Winery'],\n",
    "            cmax = usa['Winery'].max(),\n",
    "            colorbar_title=\"Number of Wineries\")))\n",
    "\n",
    "fig.update_layout(\n",
    "        title = 'Number of Wineries in each State <br>(Hover for state and number of wineries)',\n",
    "        geo_scope='usa',\n",
    "    )\n",
    "fig.show()\n",
    "\n",
    "py.iplot(fig, filename='Total Number of Wineries By State(USA)')\n",
    "\n"
   ]
  },
  {
   "cell_type": "code",
   "execution_count": null,
   "metadata": {},
   "outputs": [],
   "source": [
    "abbrv = ['ARG','AUS','AUT','BUL','CAN','CHL','HRV','GBR','FRA','GEO','DEU','GRC','HUN','ISR','ITA',\\\n",
    "         'MEX','MDA','NZL','PRT','ROU','SVN','ZAF','ESP','TUR','USA','URY']\n",
    "            \n",
    "#abbrv"
   ]
  },
  {
   "cell_type": "code",
   "execution_count": null,
   "metadata": {},
   "outputs": [],
   "source": [
    "# Make sure wineries are counted only once to avoid duplicate counts\n",
    "no_dups = wine_data.drop_duplicates(subset = ['Winery'])\n",
    "\n",
    "#Group the dataframe by Winery, lat , lng and location\n",
    "world = no_dups.groupby(['Country']).count()['Winery']\n",
    "world = world.reset_index()\n",
    "world.columns = ['Country','Number of Wineries']\n",
    "\n",
    "#Create a list called country code\n",
    "abbrv = ['ARG','AUS','AUT','BUL','CAN','CHL','HRV','GBR','FRA','GEO','DEU','GRC','HUN','ISR','ITA',\\\n",
    "         'MEX','MDA','NZL','PRT','ROU','SVN','ZAF','ESP','TUR','USA','URY']\n",
    "            \n",
    "abbrv\n",
    "#Add abbrreviation to existing dataframe\n",
    "world['Country Code'] = abbrv\n",
    "world"
   ]
  },
  {
   "cell_type": "code",
   "execution_count": null,
   "metadata": {},
   "outputs": [],
   "source": [
    "#plot number of wineries by country \n",
    "import plotly.express as px\n",
    "\n",
    "\n",
    "df = world\n",
    "fig = px.scatter_geo(df, locations='Country Code', color=world['Number of Wineries'],\n",
    "                     hover_name=\"Country\", size=world['Number of Wineries'],\n",
    "                    projection='natural earth',\n",
    "                    )\n",
    "\n",
    "py.iplot(fig, filename='Number of Wineries By Country')"
   ]
  },
  {
   "cell_type": "markdown",
   "metadata": {},
   "source": [
    "# Wine Finder"
   ]
  },
  {
   "cell_type": "code",
   "execution_count": 1,
   "metadata": {},
   "outputs": [],
   "source": [
    "import sqlite3\n",
    "\n",
    "connection = sqlite3.connect('wine_reviews.db')\n",
    "c = connection.cursor()"
   ]
  },
  {
   "cell_type": "code",
   "execution_count": null,
   "metadata": {},
   "outputs": [
    {
     "name": "stdout",
     "output_type": "stream",
     "text": [
      " \n",
      "Welcome! I will be your sommelier today\n",
      "\n",
      "Please choose between the three options: \n",
      "1. Red Wine\n",
      "2. White Wine\n",
      "3. Quit\n",
      "Option: 1\n",
      "You have selected red wine\n",
      "What country would you like your wine from?Try US for Country: us\n",
      "What is your price cap($)?: 25\n",
      "What grade would you like? (80 to 100): 84\n",
      "\n",
      "Sorry we do not have this wine at this time\n",
      " \n",
      "Welcome! I will be your sommelier today\n",
      "\n",
      "Please choose between the three options: \n",
      "1. Red Wine\n",
      "2. White Wine\n",
      "3. Quit\n",
      "Option: 2\n",
      "You have selected white wine\n",
      "What country would you like your wine from?Try US for Country: US\n",
      "What is your price cap($)?: 25\n",
      "What grade would you like? (80 to 100): 84\n",
      "\n",
      "Sorry we do not have this wine at this time\n",
      " \n",
      "Welcome! I will be your sommelier today\n",
      "\n",
      "Please choose between the three options: \n",
      "1. Red Wine\n",
      "2. White Wine\n",
      "3. Quit\n"
     ]
    }
   ],
   "source": [
    "def red_wine(connection):\n",
    "    category ='Red'\n",
    "    country = input('What country would you like your wine from?Try US for Country: ')\n",
    "    price = int(input('What is your price cap($)?: '))\n",
    "    grade = input('What grade would you like? (80 to 100): ')\n",
    "    data = c.execute('SELECT DISTINCT Category, Price, Variety, Title FROM wine WHERE Category=? AND Country=? AND Price <=? OR Points=? LIMIT 10;', (category,country,price,grade,)).fetchall()\n",
    "    \n",
    "    found = False\n",
    "    for row in data:\n",
    "         if row[0] == category:\n",
    "                found = True  # type is Red\n",
    "                print(row)\n",
    "    if found == False:  # if id is not found after the iterations of storage, return false\n",
    "        print('Sorry we do not have this wine at this time')\n",
    "        return False\n",
    "    \n",
    "SELECT DISTINCT Category, Price, Variety from wine \n",
    "WHERE Category ='Red' AND Country='US' AND Price <=25 AND Points=84;    \n",
    "    \n",
    "    \n",
    "def white_wine(connection):\n",
    "    category='White'\n",
    "    country = input('What country would you like your wine from?Try US for Country: ')\n",
    "    price = int(input('What is your price cap($)?: '))\n",
    "    grade = input('What grade would you like? (80 to 100): ')\n",
    "    data = c.execute('SELECT DISTINCT Category, Price, Variety, Title FROM wine WHERE Category=? AND Country=? AND Price <=? OR Points=? LIMIT 10;', (category,country,price,grade,)).fetchall()\n",
    "    \n",
    "    found = False\n",
    "    for row in data:\n",
    "         if row[0] == category:\n",
    "                found = True  # type is White\n",
    "                print(row)\n",
    "    if found == False:  # if id is not found after the iterations of storage, return false\n",
    "        print('Sorry we do not have this wine at this time')\n",
    "        return False\n",
    "    \n",
    "               \n",
    "        \n",
    "def main():\n",
    "    while '1':\n",
    "        print(' ')\n",
    "        print('Welcome! I will be your sommelier today')\n",
    "        print('')\n",
    "        print('Please choose between the three options: ')\n",
    "        print('1. Red Wine')\n",
    "        print('2. White Wine')\n",
    "        print('3. Quit')\n",
    "        \n",
    "        user_option = input(str('Option: '))\n",
    "        if user_option == '1':\n",
    "            print('You have selected red wine')\n",
    "            red_wine(connection)\n",
    "            \n",
    "        elif user_option =='2':\n",
    "            print('You have selected white wine')\n",
    "            white_wine(connection)\n",
    "        elif user_option =='3':\n",
    "            break\n",
    "        else:\n",
    "            print('No valid option was chosen')\n",
    "            \n",
    "main()\n",
    "        \n",
    "\n",
    "    "
   ]
  },
  {
   "cell_type": "code",
   "execution_count": null,
   "metadata": {},
   "outputs": [],
   "source": [
    "c.close()\n",
    "connection.close()"
   ]
  }
 ],
 "metadata": {
  "kernelspec": {
   "display_name": "Python 3",
   "language": "python",
   "name": "python3"
  },
  "language_info": {
   "codemirror_mode": {
    "name": "ipython",
    "version": 3
   },
   "file_extension": ".py",
   "mimetype": "text/x-python",
   "name": "python",
   "nbconvert_exporter": "python",
   "pygments_lexer": "ipython3",
   "version": "3.7.1"
  }
 },
 "nbformat": 4,
 "nbformat_minor": 2
}
